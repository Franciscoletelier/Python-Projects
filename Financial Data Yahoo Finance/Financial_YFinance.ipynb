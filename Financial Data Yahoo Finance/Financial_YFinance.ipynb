{
 "cells": [
  {
   "cell_type": "markdown",
   "metadata": {},
   "source": [
    "# Project Yahoo Finance\n",
    "\n",
    "### Contenido:\n",
    "1. Vamos a probar la api de yahoo finance para obtener datos de monedas, acciones, etc.\n",
    "2. Analizaremos los datos obtenidos y los graficaremos.\n",
    "3. Estableceremos una estrategia de inversión y la probaremos."
   ]
  },
  {
   "cell_type": "code",
   "execution_count": 2,
   "metadata": {},
   "outputs": [
    {
     "name": "stdout",
     "output_type": "stream",
     "text": [
      "Requirement already satisfied: session-info in /Applications/anaconda3/lib/python3.9/site-packages (1.0.0)\n",
      "Requirement already satisfied: stdlib-list in /Applications/anaconda3/lib/python3.9/site-packages (from session-info) (0.9.0)\n"
     ]
    }
   ],
   "source": [
    "# Instalacion de librerias\n",
    "# ! pip install yfinance\n",
    "# ! pip install lxml --upgrade --no-cache-dir\n",
    "# ! pip install yfinance --upgrade\n",
    "# ! pip install Cython\n",
    "# ! pip install pyarrow\n",
    "# ! pip install session-info"
   ]
  },
  {
   "cell_type": "code",
   "execution_count": 3,
   "metadata": {},
   "outputs": [
    {
     "ename": "ModuleNotFoundError",
     "evalue": "No module named 'pandas_datareader'",
     "output_type": "error",
     "traceback": [
      "\u001b[0;31m---------------------------------------------------------------------------\u001b[0m",
      "\u001b[0;31mModuleNotFoundError\u001b[0m                       Traceback (most recent call last)",
      "\u001b[1;32m/Users/franciscoletelier/Dropbox (Personal)/MDS - UAI/Git/Python-Projects/Financial Data Yahoo Finance/Financial_YFinance.ipynb Celda 3\u001b[0m in \u001b[0;36m<cell line: 7>\u001b[0;34m()\u001b[0m\n\u001b[1;32m      <a href='vscode-notebook-cell:/Users/franciscoletelier/Dropbox%20%28Personal%29/MDS%20-%20UAI/Git/Python-Projects/Financial%20Data%20Yahoo%20Finance/Financial_YFinance.ipynb#W3sZmlsZQ%3D%3D?line=4'>5</a>\u001b[0m \u001b[39mimport\u001b[39;00m \u001b[39mseaborn\u001b[39;00m \u001b[39mas\u001b[39;00m \u001b[39msns\u001b[39;00m\n\u001b[1;32m      <a href='vscode-notebook-cell:/Users/franciscoletelier/Dropbox%20%28Personal%29/MDS%20-%20UAI/Git/Python-Projects/Financial%20Data%20Yahoo%20Finance/Financial_YFinance.ipynb#W3sZmlsZQ%3D%3D?line=5'>6</a>\u001b[0m \u001b[39mimport\u001b[39;00m \u001b[39mdatetime\u001b[39;00m \u001b[39mas\u001b[39;00m \u001b[39mdt\u001b[39;00m\n\u001b[0;32m----> <a href='vscode-notebook-cell:/Users/franciscoletelier/Dropbox%20%28Personal%29/MDS%20-%20UAI/Git/Python-Projects/Financial%20Data%20Yahoo%20Finance/Financial_YFinance.ipynb#W3sZmlsZQ%3D%3D?line=6'>7</a>\u001b[0m \u001b[39mfrom\u001b[39;00m \u001b[39mpandas_datareader\u001b[39;00m \u001b[39mimport\u001b[39;00m data \u001b[39mas\u001b[39;00m pdr\n\u001b[1;32m      <a href='vscode-notebook-cell:/Users/franciscoletelier/Dropbox%20%28Personal%29/MDS%20-%20UAI/Git/Python-Projects/Financial%20Data%20Yahoo%20Finance/Financial_YFinance.ipynb#W3sZmlsZQ%3D%3D?line=7'>8</a>\u001b[0m \u001b[39mimport\u001b[39;00m \u001b[39myfinance\u001b[39;00m \u001b[39mas\u001b[39;00m \u001b[39myf\u001b[39;00m\n\u001b[1;32m     <a href='vscode-notebook-cell:/Users/franciscoletelier/Dropbox%20%28Personal%29/MDS%20-%20UAI/Git/Python-Projects/Financial%20Data%20Yahoo%20Finance/Financial_YFinance.ipynb#W3sZmlsZQ%3D%3D?line=9'>10</a>\u001b[0m \u001b[39m# Para documentar el proyecto se importa la libreria session_info\u001b[39;00m\n",
      "\u001b[0;31mModuleNotFoundError\u001b[0m: No module named 'pandas_datareader'"
     ]
    }
   ],
   "source": [
    "# Se importan las librerias necesarias\n",
    "import pandas as pd\n",
    "import numpy as np\n",
    "import matplotlib.pyplot as plt\n",
    "import seaborn as sns\n",
    "import datetime as dt\n",
    "from pandas_datareader import data as pdr\n",
    "import yfinance as yf\n",
    "\n",
    "# Para documentar el proyecto se importa la libreria session_info\n",
    "import session_info\n",
    "session_info.show()\n",
    "\n",
    "\n",
    "# Importar datos\n",
    "# https://finance.yahoo.com/quote/AMZN/history?p=AMZN\n",
    "# https://finance.yahoo.com/quote/AMZN?p=AMZN&.tsrc=fin-srch\n",
    "\n",
    "# Importar librería de warnings\n",
    "# import warnings\n",
    "# warnings.filterwarnings('ignore')\n",
    "\n",
    "# # Setear estilo de gráficos\n",
    "# plt.style.use('seaborn')\n",
    "# # Setear tamaño de gráficos\n",
    "# plt.rcParams['figure.figsize'] = (14, 8)\n"
   ]
  },
  {
   "cell_type": "markdown",
   "metadata": {},
   "source": [
    "## Link Github YFinance:\n",
    "* https://github.com/ranaroussi/yfinance"
   ]
  },
  {
   "cell_type": "code",
   "execution_count": null,
   "metadata": {},
   "outputs": [],
   "source": [
    "import yfinance as yf\n",
    "\n",
    "msft = yf.Ticker(\"MSFT\")\n",
    "\n",
    "# get all stock info\n",
    "msft.info\n",
    "\n",
    "# get historical market data\n",
    "hist = msft.history(period=\"1mo\")\n",
    "\n",
    "# show meta information about the history (requires history() to be called first)\n",
    "msft.history_metadata\n",
    "\n",
    "# show actions (dividends, splits, capital gains)\n",
    "msft.actions\n",
    "msft.dividends\n",
    "msft.splits\n",
    "msft.capital_gains  # only for mutual funds & etfs\n",
    "\n",
    "# show share count\n",
    "msft.get_shares_full(start=\"2022-01-01\", end=None)\n",
    "\n",
    "# show financials:\n",
    "# - income statement\n",
    "msft.income_stmt\n",
    "msft.quarterly_income_stmt\n",
    "# - balance sheet\n",
    "msft.balance_sheet\n",
    "msft.quarterly_balance_sheet\n",
    "# - cash flow statement\n",
    "msft.cashflow\n",
    "msft.quarterly_cashflow\n",
    "# see `Ticker.get_income_stmt()` for more options\n",
    "\n",
    "# show holders\n",
    "msft.major_holders\n",
    "msft.institutional_holders\n",
    "msft.mutualfund_holders\n",
    "\n",
    "# Show future and historic earnings dates, returns at most next 4 quarters and last 8 quarters by default. \n",
    "# Note: If more are needed use msft.get_earnings_dates(limit=XX) with increased limit argument.\n",
    "msft.earnings_dates\n",
    "\n",
    "# show ISIN code - *experimental*\n",
    "# ISIN = International Securities Identification Number\n",
    "msft.isin\n",
    "\n",
    "# show options expirations\n",
    "msft.options\n",
    "\n",
    "# show news\n",
    "msft.news\n",
    "\n",
    "# get option chain for specific expiration\n",
    "opt = msft.option_chain('YYYY-MM-DD')\n",
    "# data available via: opt.calls, opt.puts"
   ]
  },
  {
   "cell_type": "markdown",
   "metadata": {},
   "source": [
    "### To download price history into one table:"
   ]
  },
  {
   "cell_type": "markdown",
   "metadata": {},
   "source": []
  },
  {
   "cell_type": "code",
   "execution_count": 4,
   "metadata": {},
   "outputs": [
    {
     "ename": "ModuleNotFoundError",
     "evalue": "No module named 'yfinance'",
     "output_type": "error",
     "traceback": [
      "\u001b[0;31m---------------------------------------------------------------------------\u001b[0m",
      "\u001b[0;31mModuleNotFoundError\u001b[0m                       Traceback (most recent call last)",
      "\u001b[1;32m/Users/franciscoletelier/Dropbox (Personal)/MDS - UAI/Git/Python-Projects/Financial Data Yahoo Finance/Financial_YFinance.ipynb Celda 7\u001b[0m in \u001b[0;36m<cell line: 1>\u001b[0;34m()\u001b[0m\n\u001b[0;32m----> <a href='vscode-notebook-cell:/Users/franciscoletelier/Dropbox%20%28Personal%29/MDS%20-%20UAI/Git/Python-Projects/Financial%20Data%20Yahoo%20Finance/Financial_YFinance.ipynb#X12sZmlsZQ%3D%3D?line=0'>1</a>\u001b[0m \u001b[39mimport\u001b[39;00m \u001b[39myfinance\u001b[39;00m \u001b[39mas\u001b[39;00m \u001b[39myf\u001b[39;00m\n\u001b[1;32m      <a href='vscode-notebook-cell:/Users/franciscoletelier/Dropbox%20%28Personal%29/MDS%20-%20UAI/Git/Python-Projects/Financial%20Data%20Yahoo%20Finance/Financial_YFinance.ipynb#X12sZmlsZQ%3D%3D?line=1'>2</a>\u001b[0m data \u001b[39m=\u001b[39m yf\u001b[39m.\u001b[39mdownload(\u001b[39m\"\u001b[39m\u001b[39mSPY AAPL\u001b[39m\u001b[39m\"\u001b[39m, period\u001b[39m=\u001b[39m\u001b[39m\"\u001b[39m\u001b[39m1mo\u001b[39m\u001b[39m\"\u001b[39m)\n",
      "\u001b[0;31mModuleNotFoundError\u001b[0m: No module named 'yfinance'"
     ]
    }
   ],
   "source": [
    "import yfinance as yf\n",
    "data = yf.download(\"SPY AAPL\", period=\"1mo\")\n"
   ]
  },
  {
   "cell_type": "code",
   "execution_count": null,
   "metadata": {},
   "outputs": [],
   "source": []
  }
 ],
 "metadata": {
  "kernelspec": {
   "display_name": "Python 3",
   "language": "python",
   "name": "python3"
  },
  "language_info": {
   "codemirror_mode": {
    "name": "ipython",
    "version": 3
   },
   "file_extension": ".py",
   "mimetype": "text/x-python",
   "name": "python",
   "nbconvert_exporter": "python",
   "pygments_lexer": "ipython3",
   "version": "3.9.12"
  },
  "orig_nbformat": 4
 },
 "nbformat": 4,
 "nbformat_minor": 2
}
