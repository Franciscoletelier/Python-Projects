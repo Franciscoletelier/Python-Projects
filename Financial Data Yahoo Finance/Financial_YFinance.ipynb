{
 "cells": [
  {
   "cell_type": "markdown",
   "metadata": {},
   "source": [
    "# Project Yahoo Finance\n",
    "\n",
    "### Contenido:\n",
    "1. Vamos a probar la api de yahoo finance para obtener datos de monedas, acciones, etc.\n",
    "2. Analizaremos los datos obtenidos y los graficaremos.\n",
    "3. Estableceremos una estrategia de inversión y la probaremos."
   ]
  },
  {
   "cell_type": "code",
   "execution_count": null,
   "metadata": {},
   "outputs": [],
   "source": []
  },
  {
   "cell_type": "code",
   "execution_count": 47,
   "metadata": {},
   "outputs": [
    {
     "name": "stdout",
     "output_type": "stream",
     "text": [
      "Requirement already satisfied: session-info in /Applications/anaconda3/lib/python3.9/site-packages (1.0.0)\n",
      "Requirement already satisfied: stdlib-list in /Applications/anaconda3/lib/python3.9/site-packages (from session-info) (0.9.0)\n"
     ]
    }
   ],
   "source": [
    "# Instalacion de librerias\n",
    "# ! pip install yfinance\n",
    "# ! pip install lxml --upgrade --no-cache-dir\n",
    "# ! pip install yfinance --upgrade\n",
    "# ! pip install Cython\n",
    "# ! pip install pyarrow\n",
    "! pip install session-info"
   ]
  },
  {
   "cell_type": "code",
   "execution_count": 49,
   "metadata": {},
   "outputs": [
    {
     "ename": "ModuleNotFoundError",
     "evalue": "No module named 'pandas_datareader'",
     "output_type": "error",
     "traceback": [
      "\u001b[0;31m---------------------------------------------------------------------------\u001b[0m",
      "\u001b[0;31mModuleNotFoundError\u001b[0m                       Traceback (most recent call last)",
      "\u001b[1;32m/Franciscoletelier/Python-Projects/Financial Data Yahoo Finance/Financial_YFinance.ipynb Celda 4\u001b[0m in \u001b[0;36m<cell line: 7>\u001b[0;34m()\u001b[0m\n\u001b[1;32m      <a href='vscode-notebook-cell://github/Franciscoletelier/Python-Projects/Financial%20Data%20Yahoo%20Finance/Financial_YFinance.ipynb#X11sdnNjb2RlLXZmcw%3D%3D?line=0'>1</a>\u001b[0m \u001b[39m# Se importan las librerias necesarias\u001b[39;00m\n\u001b[1;32m      <a href='vscode-notebook-cell://github/Franciscoletelier/Python-Projects/Financial%20Data%20Yahoo%20Finance/Financial_YFinance.ipynb#X11sdnNjb2RlLXZmcw%3D%3D?line=1'>2</a>\u001b[0m \u001b[39m# import pandas as pd\u001b[39;00m\n\u001b[1;32m      <a href='vscode-notebook-cell://github/Franciscoletelier/Python-Projects/Financial%20Data%20Yahoo%20Finance/Financial_YFinance.ipynb#X11sdnNjb2RlLXZmcw%3D%3D?line=2'>3</a>\u001b[0m \u001b[39m# import numpy as np\u001b[39;00m\n\u001b[1;32m      <a href='vscode-notebook-cell://github/Franciscoletelier/Python-Projects/Financial%20Data%20Yahoo%20Finance/Financial_YFinance.ipynb#X11sdnNjb2RlLXZmcw%3D%3D?line=3'>4</a>\u001b[0m \u001b[39m# import matplotlib.pyplot as plt\u001b[39;00m\n\u001b[1;32m      <a href='vscode-notebook-cell://github/Franciscoletelier/Python-Projects/Financial%20Data%20Yahoo%20Finance/Financial_YFinance.ipynb#X11sdnNjb2RlLXZmcw%3D%3D?line=4'>5</a>\u001b[0m \u001b[39m# import seaborn as sns\u001b[39;00m\n\u001b[1;32m      <a href='vscode-notebook-cell://github/Franciscoletelier/Python-Projects/Financial%20Data%20Yahoo%20Finance/Financial_YFinance.ipynb#X11sdnNjb2RlLXZmcw%3D%3D?line=5'>6</a>\u001b[0m \u001b[39m# import datetime as dt\u001b[39;00m\n\u001b[0;32m----> <a href='vscode-notebook-cell://github/Franciscoletelier/Python-Projects/Financial%20Data%20Yahoo%20Finance/Financial_YFinance.ipynb#X11sdnNjb2RlLXZmcw%3D%3D?line=6'>7</a>\u001b[0m \u001b[39mfrom\u001b[39;00m \u001b[39mpandas_datareader\u001b[39;00m \u001b[39mimport\u001b[39;00m data \u001b[39mas\u001b[39;00m pdr\n\u001b[1;32m      <a href='vscode-notebook-cell://github/Franciscoletelier/Python-Projects/Financial%20Data%20Yahoo%20Finance/Financial_YFinance.ipynb#X11sdnNjb2RlLXZmcw%3D%3D?line=7'>8</a>\u001b[0m \u001b[39mimport\u001b[39;00m \u001b[39myfinance\u001b[39;00m \u001b[39mas\u001b[39;00m \u001b[39myf\u001b[39;00m\n\u001b[1;32m     <a href='vscode-notebook-cell://github/Franciscoletelier/Python-Projects/Financial%20Data%20Yahoo%20Finance/Financial_YFinance.ipynb#X11sdnNjb2RlLXZmcw%3D%3D?line=9'>10</a>\u001b[0m \u001b[39m# Para documentar el proyecto se importa la libreria session_info\u001b[39;00m\n",
      "\u001b[0;31mModuleNotFoundError\u001b[0m: No module named 'pandas_datareader'"
     ]
    }
   ],
   "source": [
    "# Se importan las librerias necesarias\n",
    "# import pandas as pd\n",
    "# import numpy as np\n",
    "# import matplotlib.pyplot as plt\n",
    "# import seaborn as sns\n",
    "# import datetime as dt\n",
    "from pandas_datareader import data as pdr\n",
    "import yfinance as yf\n",
    "\n",
    "# Para documentar el proyecto se importa la libreria session_info\n",
    "import session_info\n",
    "session_info.show()\n",
    "\n",
    "\n",
    "# Importar datos\n",
    "# https://finance.yahoo.com/quote/AMZN/history?p=AMZN\n",
    "# https://finance.yahoo.com/quote/AMZN?p=AMZN&.tsrc=fin-srch\n",
    "# https://finance.yahoo.com/quote/AMZN/history?period1=1569888000&period2=1601510400&interval=1d&filter=history&frequency=1d&includeAdjustedClose=true\n",
    "\n",
    "# Importar librería de warnings\n",
    "# import warnings\n",
    "# warnings.filterwarnings('ignore')\n",
    "\n",
    "# # Setear estilo de gráficos\n",
    "# plt.style.use('seaborn')\n",
    "# # Setear tamaño de gráficos\n",
    "# plt.rcParams['figure.figsize'] = (14, 8)\n",
    "\n",
    "\n"
   ]
  },
  {
   "cell_type": "code",
   "execution_count": 44,
   "metadata": {},
   "outputs": [
    {
     "ename": "NameError",
     "evalue": "name 'yf' is not defined",
     "output_type": "error",
     "traceback": [
      "\u001b[0;31m---------------------------------------------------------------------------\u001b[0m",
      "\u001b[0;31mNameError\u001b[0m                                 Traceback (most recent call last)",
      "\u001b[1;32m/Franciscoletelier/Python-Projects/Financial Data Yahoo Finance/Financial_YFinance.ipynb Celda 4\u001b[0m in \u001b[0;36m<cell line: 3>\u001b[0;34m()\u001b[0m\n\u001b[1;32m      <a href='vscode-notebook-cell://github/Franciscoletelier/Python-Projects/Financial%20Data%20Yahoo%20Finance/Financial_YFinance.ipynb#W4sdnNjb2RlLXZmcw%3D%3D?line=0'>1</a>\u001b[0m \u001b[39m# Here We are getting Facebook financial information\u001b[39;00m\n\u001b[1;32m      <a href='vscode-notebook-cell://github/Franciscoletelier/Python-Projects/Financial%20Data%20Yahoo%20Finance/Financial_YFinance.ipynb#W4sdnNjb2RlLXZmcw%3D%3D?line=1'>2</a>\u001b[0m \u001b[39m# We need to pass FB as argument for that\u001b[39;00m\n\u001b[0;32m----> <a href='vscode-notebook-cell://github/Franciscoletelier/Python-Projects/Financial%20Data%20Yahoo%20Finance/Financial_YFinance.ipynb#W4sdnNjb2RlLXZmcw%3D%3D?line=2'>3</a>\u001b[0m GetFacebookInformation \u001b[39m=\u001b[39m yf\u001b[39m.\u001b[39mTicker(\u001b[39m\"\u001b[39m\u001b[39mMETA\u001b[39m\u001b[39m\"\u001b[39m)\n\u001b[1;32m      <a href='vscode-notebook-cell://github/Franciscoletelier/Python-Projects/Financial%20Data%20Yahoo%20Finance/Financial_YFinance.ipynb#W4sdnNjb2RlLXZmcw%3D%3D?line=4'>5</a>\u001b[0m \u001b[39m# whole python dictionary is printed here\u001b[39;00m\n\u001b[1;32m      <a href='vscode-notebook-cell://github/Franciscoletelier/Python-Projects/Financial%20Data%20Yahoo%20Finance/Financial_YFinance.ipynb#W4sdnNjb2RlLXZmcw%3D%3D?line=5'>6</a>\u001b[0m \u001b[39mprint\u001b[39m(GetFacebookInformation\u001b[39m.\u001b[39minfo)\n",
      "\u001b[0;31mNameError\u001b[0m: name 'yf' is not defined"
     ]
    }
   ],
   "source": [
    "# Here We are getting Facebook financial information\n",
    "# We need to pass FB as argument for that\n",
    "GetFacebookInformation = yf.Ticker(\"META\")\n",
    "\n",
    "# whole python dictionary is printed here\n",
    "print(GetFacebookInformation.info)\n",
    "\n",
    "\n",
    "\n",
    "\n",
    "\n",
    "\n"
   ]
  },
  {
   "cell_type": "code",
   "execution_count": null,
   "metadata": {},
   "outputs": [],
   "source": []
  },
  {
   "cell_type": "code",
   "execution_count": null,
   "metadata": {},
   "outputs": [],
   "source": []
  }
 ],
 "metadata": {
  "kernelspec": {
   "display_name": "Python 3",
   "language": "python",
   "name": "python3"
  },
  "language_info": {
   "codemirror_mode": {
    "name": "ipython",
    "version": 3
   },
   "file_extension": ".py",
   "mimetype": "text/x-python",
   "name": "python",
   "nbconvert_exporter": "python",
   "pygments_lexer": "ipython3",
   "version": "3.9.12"
  },
  "orig_nbformat": 4
 },
 "nbformat": 4,
 "nbformat_minor": 2
}
